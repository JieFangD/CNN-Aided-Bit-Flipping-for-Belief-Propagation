{
 "cells": [
  {
   "cell_type": "code",
   "execution_count": 1,
   "metadata": {},
   "outputs": [
    {
     "name": "stderr",
     "output_type": "stream",
     "text": [
      "/home/jeff/.local/lib/python3.6/site-packages/tensorflow/python/framework/dtypes.py:516: FutureWarning: Passing (type, 1) or '1type' as a synonym of type is deprecated; in a future version of numpy, it will be understood as (type, (1,)) / '(1,)type'.\n",
      "  _np_qint8 = np.dtype([(\"qint8\", np.int8, 1)])\n",
      "/home/jeff/.local/lib/python3.6/site-packages/tensorflow/python/framework/dtypes.py:517: FutureWarning: Passing (type, 1) or '1type' as a synonym of type is deprecated; in a future version of numpy, it will be understood as (type, (1,)) / '(1,)type'.\n",
      "  _np_quint8 = np.dtype([(\"quint8\", np.uint8, 1)])\n",
      "/home/jeff/.local/lib/python3.6/site-packages/tensorflow/python/framework/dtypes.py:518: FutureWarning: Passing (type, 1) or '1type' as a synonym of type is deprecated; in a future version of numpy, it will be understood as (type, (1,)) / '(1,)type'.\n",
      "  _np_qint16 = np.dtype([(\"qint16\", np.int16, 1)])\n",
      "/home/jeff/.local/lib/python3.6/site-packages/tensorflow/python/framework/dtypes.py:519: FutureWarning: Passing (type, 1) or '1type' as a synonym of type is deprecated; in a future version of numpy, it will be understood as (type, (1,)) / '(1,)type'.\n",
      "  _np_quint16 = np.dtype([(\"quint16\", np.uint16, 1)])\n",
      "/home/jeff/.local/lib/python3.6/site-packages/tensorflow/python/framework/dtypes.py:520: FutureWarning: Passing (type, 1) or '1type' as a synonym of type is deprecated; in a future version of numpy, it will be understood as (type, (1,)) / '(1,)type'.\n",
      "  _np_qint32 = np.dtype([(\"qint32\", np.int32, 1)])\n",
      "/home/jeff/.local/lib/python3.6/site-packages/tensorflow/python/framework/dtypes.py:525: FutureWarning: Passing (type, 1) or '1type' as a synonym of type is deprecated; in a future version of numpy, it will be understood as (type, (1,)) / '(1,)type'.\n",
      "  np_resource = np.dtype([(\"resource\", np.ubyte, 1)])\n",
      "/home/jeff/.local/lib/python3.6/site-packages/requests/__init__.py:91: RequestsDependencyWarning: urllib3 (1.25.9) or chardet (3.0.4) doesn't match a supported version!\n",
      "  RequestsDependencyWarning)\n",
      "Using TensorFlow backend.\n"
     ]
    }
   ],
   "source": [
    "import os\n",
    "os.environ['CUDA_VISIBLE_DEVICES'] = \"0\"\n",
    "import tensorflow as tf\n",
    "import numpy as np\n",
    "import matplotlib.pyplot as plt\n",
    "config = tf.ConfigProto()\n",
    "config.gpu_options.allow_growth=True\n",
    "sess = tf.Session(config=config)\n",
    "from config import *\n",
    "from keras import backend as Ker\n",
    "Ker.tensorflow_backend._get_available_gpus()\n",
    "from keras.models import Sequential, Model\n",
    "from keras.layers import Dense, LeakyReLU, Convolution1D, Convolution2D, Convolution3D, Flatten, MaxPooling2D, Dropout, LSTM, Bidirectional, Input, Add, Concatenate\n",
    "from keras.callbacks import EarlyStopping, ModelCheckpoint\n",
    "import pickle\n",
    "from keras.utils import to_categorical\n",
    "from keras.layers.normalization import BatchNormalization"
   ]
  },
  {
   "cell_type": "code",
   "execution_count": 2,
   "metadata": {},
   "outputs": [],
   "source": [
    "def get_data():\n",
    "    validation_ratio = 0.2\n",
    "    test_ratio = 0.3\n",
    "    bp_iter_num = 5\n",
    "    X_train = np.zeros((1,n+1,N,bp_iter_num,2))\n",
    "    Y_train = np.zeros((1,K))\n",
    "    X_test = np.zeros((1,n+1,N,bp_iter_num,2))\n",
    "    Y_test = np.zeros((1,K))\n",
    "    X_val = np.zeros((1,n+1,N,bp_iter_num,2))\n",
    "    Y_val= np.zeros((1,K))\n",
    "    Y2K = np.cumsum(-1*FZlookup)-1\n",
    "    for i in range(len(ebn0)):\n",
    "        with open(\"./Data/X_SNR_\"+str(N)+\"_\"+str(i)+\"_1_0.p\", \"rb\") as file:\n",
    "            x = pickle.load(file)\n",
    "        with open(\"./Data/Y_SNR_\"+str(N)+\"_\"+str(i)+\"_1_0.p\", \"rb\") as file:\n",
    "            y = pickle.load(file)\n",
    "        y_tmp = np.zeros((len(x),K))\n",
    "        X_train = np.concatenate((X_train, x[:int(len(x)*(1-test_ratio)*(1-validation_ratio)),:,:,:,:]), axis=0)\n",
    "        X_test = np.concatenate((X_test, x[int(len(x)*(1-test_ratio)):,:,:,:,:]), axis=0)\n",
    "        X_val = np.concatenate((X_val, x[int(len(x)*(1-test_ratio)*(1-validation_ratio)):int(len(x)*(1-test_ratio)),:,:,:,:]), axis=0)\n",
    "        for j in range(len(y)):\n",
    "            y_tmp[j,:] = np.sum(to_categorical(Y2K[y[j]],K),0)\n",
    "        Y_train = np.concatenate((Y_train, y_tmp[:int(len(x)*(1-test_ratio)*(1-validation_ratio)),:]), axis=0)\n",
    "        Y_test = np.concatenate((Y_test, y_tmp[int(len(x)*(1-test_ratio)):,:]), axis=0)\n",
    "        Y_val = np.concatenate((Y_val, y_tmp[int(len(x)*(1-test_ratio)*(1-validation_ratio)):int(len(x)*(1-test_ratio)),:]), axis=0)\n",
    "    X_train = X_train[1:,:,:,:,:]\n",
    "    X_test = X_test[1:,:,:,:,:]\n",
    "    X_val = X_val[1:,:,:,:,:]\n",
    "    Y_train = Y_train[1:,:]\n",
    "    Y_test = Y_test[1:,:]\n",
    "    Y_val = Y_val[1:,:]\n",
    "    print(\"Training data:   \",X_train.shape)\n",
    "    print(\"Validation data: \",X_val.shape)\n",
    "    print(\"Testing data:    \",X_test.shape)\n",
    "    return X_train, X_test, X_val, Y_train, Y_test, Y_val"
   ]
  },
  {
   "cell_type": "code",
   "execution_count": 3,
   "metadata": {},
   "outputs": [],
   "source": [
    "def acc(target, output):\n",
    "    max_idx = tf.argmax(output,1)\n",
    "    idx = tf.cast(tf.range(0, tf.shape(output)[0], 1),tf.int64)\n",
    "    idx = tf.stack([idx,max_idx],1)\n",
    "    value = tf.gather_nd(target,idx)\n",
    "    return tf.reduce_mean(value)"
   ]
  },
  {
   "cell_type": "code",
   "execution_count": 4,
   "metadata": {},
   "outputs": [],
   "source": [
    "def true_acc(y_test, y_pred, num_of_tries):\n",
    "    max_idx = np.argsort(y_pred,1)[:,::-1][:,:num_of_tries]\n",
    "    value = np.take_along_axis(y_test,max_idx,1)\n",
    "    acc = []\n",
    "    for i in range(num_of_tries):\n",
    "        acc.append(np.round(np.mean(np.sum(value[:,:i+1],1)>0),5))\n",
    "    return acc"
   ]
  },
  {
   "cell_type": "code",
   "execution_count": 5,
   "metadata": {},
   "outputs": [],
   "source": [
    "def train(X_train, X_test, X_val, Y_train, Y_test, Y_val):\n",
    "    model = Sequential()\n",
    "    model.add(BatchNormalization(input_shape=(X_train.shape[1:])))\n",
    "    model.add(Convolution2D(32,(3,3),padding='same',input_shape=(X_train.shape[1:]), activation='relu'))\n",
    "    model.add(Dropout(0.2))\n",
    "    model.add(Convolution2D(16,(3,3),padding='same', activation='relu'))\n",
    "    model.add(Dropout(0.2))\n",
    "    model.add(Convolution2D(8,(3,3),padding='same', activation='relu'))\n",
    "    model.add(Dropout(0.2))\n",
    "    model.add(Flatten())\n",
    "    model.add(Dense(500, activation='relu'))\n",
    "    model.add(Dense(200, activation='relu'))\n",
    "    model.add(Dense(50, activation='relu'))\n",
    "    model.add(Dense(Y_train.shape[1], activation='sigmoid'))\n",
    "    model.compile(loss=\"categorical_crossentropy\", optimizer='adam', metrics=[acc])\n",
    "    model.summary()\n",
    "#     if(os.path.exists('Model/Uni_'+str(N)+'.h5')):\n",
    "#         model.load_weights('Model/Uni_'+str(N)+'.h5')\n",
    "    earlystopping = EarlyStopping(monitor='val_acc', patience = 10, verbose=0, mode='max')\n",
    "    checkpoint = ModelCheckpoint(filepath='Model/Uni_'+str(N)+'.h5', verbose=1, save_best_only=True, save_weights_only=True, monitor='val_acc', mode='max')\n",
    "    history = model.fit(X_train, Y_train, validation_data=(X_val, Y_val), epochs=60, batch_size=500, verbose=1, shuffle=True, callbacks=[earlystopping,checkpoint])\n",
    "    model.load_weights('Model/Uni_'+str(N)+'.h5')\n",
    "    return model"
   ]
  },
  {
   "cell_type": "code",
   "execution_count": 6,
   "metadata": {},
   "outputs": [
    {
     "name": "stdout",
     "output_type": "stream",
     "text": [
      "Training data:    (50400, 6, 32, 5, 2)\n",
      "Validation data:  (12600, 6, 32, 5, 2)\n",
      "Testing data:     (27000, 6, 32, 5, 2)\n",
      "Model: \"sequential_1\"\n",
      "_________________________________________________________________\n",
      "Layer (type)                 Output Shape              Param #   \n",
      "=================================================================\n",
      "batch_normalization_1 (Batch (None, 6, 32, 15)         60        \n",
      "_________________________________________________________________\n",
      "conv2d_1 (Conv2D)            (None, 6, 32, 32)         4352      \n",
      "_________________________________________________________________\n",
      "dropout_1 (Dropout)          (None, 6, 32, 32)         0         \n",
      "_________________________________________________________________\n",
      "conv2d_2 (Conv2D)            (None, 6, 32, 16)         4624      \n",
      "_________________________________________________________________\n",
      "dropout_2 (Dropout)          (None, 6, 32, 16)         0         \n",
      "_________________________________________________________________\n",
      "conv2d_3 (Conv2D)            (None, 6, 32, 8)          1160      \n",
      "_________________________________________________________________\n",
      "dropout_3 (Dropout)          (None, 6, 32, 8)          0         \n",
      "_________________________________________________________________\n",
      "flatten_1 (Flatten)          (None, 1536)              0         \n",
      "_________________________________________________________________\n",
      "dense_1 (Dense)              (None, 500)               768500    \n",
      "_________________________________________________________________\n",
      "dense_2 (Dense)              (None, 200)               100200    \n",
      "_________________________________________________________________\n",
      "dense_3 (Dense)              (None, 50)                10050     \n",
      "_________________________________________________________________\n",
      "dense_4 (Dense)              (None, 16)                816       \n",
      "=================================================================\n",
      "Total params: 889,762\n",
      "Trainable params: 889,732\n",
      "Non-trainable params: 30\n",
      "_________________________________________________________________\n",
      "WARNING:tensorflow:From /home/jeff/.local/lib/python3.6/site-packages/tensorflow/python/ops/math_grad.py:1250: add_dispatch_support.<locals>.wrapper (from tensorflow.python.ops.array_ops) is deprecated and will be removed in a future version.\n",
      "Instructions for updating:\n",
      "Use tf.where in 2.0, which has the same broadcast rule as np.where\n",
      "WARNING:tensorflow:From /home/jeff/.local/lib/python3.6/site-packages/keras/backend/tensorflow_backend.py:422: The name tf.global_variables is deprecated. Please use tf.compat.v1.global_variables instead.\n",
      "\n",
      "Train on 50400 samples, validate on 12600 samples\n",
      "Epoch 1/60\n",
      "50400/50400 [==============================] - 5s 99us/step - loss: 6.1119 - acc: 0.2940 - val_loss: 5.9527 - val_acc: 0.3520\n",
      "\n",
      "Epoch 00001: val_acc improved from -inf to 0.35200, saving model to Model/Uni_32.h5\n",
      "Epoch 2/60\n",
      "50400/50400 [==============================] - 2s 48us/step - loss: 5.8006 - acc: 0.3780 - val_loss: 5.7208 - val_acc: 0.3994\n",
      "\n",
      "Epoch 00002: val_acc improved from 0.35200 to 0.39938, saving model to Model/Uni_32.h5\n",
      "Epoch 3/60\n",
      "50400/50400 [==============================] - 2s 48us/step - loss: 5.6528 - acc: 0.4067 - val_loss: 5.6454 - val_acc: 0.4232\n",
      "\n",
      "Epoch 00003: val_acc improved from 0.39938 to 0.42315, saving model to Model/Uni_32.h5\n",
      "Epoch 4/60\n",
      "50400/50400 [==============================] - 3s 52us/step - loss: 5.5617 - acc: 0.4230 - val_loss: 5.5541 - val_acc: 0.4418\n",
      "\n",
      "Epoch 00004: val_acc improved from 0.42315 to 0.44185, saving model to Model/Uni_32.h5\n",
      "Epoch 5/60\n",
      "50400/50400 [==============================] - 2s 50us/step - loss: 5.4975 - acc: 0.4349 - val_loss: 5.5244 - val_acc: 0.4448\n",
      "\n",
      "Epoch 00005: val_acc improved from 0.44185 to 0.44477, saving model to Model/Uni_32.h5\n",
      "Epoch 6/60\n",
      "50400/50400 [==============================] - 3s 51us/step - loss: 5.4350 - acc: 0.4451 - val_loss: 5.4903 - val_acc: 0.4584\n",
      "\n",
      "Epoch 00006: val_acc improved from 0.44477 to 0.45838, saving model to Model/Uni_32.h5\n",
      "Epoch 7/60\n",
      "50400/50400 [==============================] - 3s 55us/step - loss: 5.3764 - acc: 0.4551 - val_loss: 5.4773 - val_acc: 0.4575\n",
      "\n",
      "Epoch 00007: val_acc did not improve from 0.45838\n",
      "Epoch 8/60\n",
      "50400/50400 [==============================] - 3s 50us/step - loss: 5.3217 - acc: 0.4625 - val_loss: 5.4693 - val_acc: 0.4617\n",
      "\n",
      "Epoch 00008: val_acc improved from 0.45838 to 0.46169, saving model to Model/Uni_32.h5\n",
      "Epoch 9/60\n",
      "50400/50400 [==============================] - 3s 54us/step - loss: 5.2733 - acc: 0.4697 - val_loss: 5.4709 - val_acc: 0.4622\n",
      "\n",
      "Epoch 00009: val_acc improved from 0.46169 to 0.46223, saving model to Model/Uni_32.h5\n",
      "Epoch 10/60\n",
      "50400/50400 [==============================] - 3s 51us/step - loss: 5.2256 - acc: 0.4789 - val_loss: 5.4738 - val_acc: 0.4552\n",
      "\n",
      "Epoch 00010: val_acc did not improve from 0.46223\n",
      "Epoch 11/60\n",
      "50400/50400 [==============================] - 3s 54us/step - loss: 5.1738 - acc: 0.4861 - val_loss: 5.4865 - val_acc: 0.4568\n",
      "\n",
      "Epoch 00011: val_acc did not improve from 0.46223\n",
      "Epoch 12/60\n",
      "50400/50400 [==============================] - 3s 51us/step - loss: 5.1200 - acc: 0.4935 - val_loss: 5.4716 - val_acc: 0.4594\n",
      "\n",
      "Epoch 00012: val_acc did not improve from 0.46223\n",
      "Epoch 13/60\n",
      "50400/50400 [==============================] - 2s 48us/step - loss: 5.0667 - acc: 0.5019 - val_loss: 5.4891 - val_acc: 0.4618\n",
      "\n",
      "Epoch 00013: val_acc did not improve from 0.46223\n",
      "Epoch 14/60\n",
      "50400/50400 [==============================] - 2s 47us/step - loss: 5.0133 - acc: 0.5080 - val_loss: 5.5183 - val_acc: 0.4585\n",
      "\n",
      "Epoch 00014: val_acc did not improve from 0.46223\n",
      "Epoch 15/60\n",
      "50400/50400 [==============================] - 2s 47us/step - loss: 4.9661 - acc: 0.5156 - val_loss: 5.5345 - val_acc: 0.4522\n",
      "\n",
      "Epoch 00015: val_acc did not improve from 0.46223\n",
      "Epoch 16/60\n",
      "50400/50400 [==============================] - 2s 48us/step - loss: 4.9110 - acc: 0.5251 - val_loss: 5.5680 - val_acc: 0.4545\n",
      "\n",
      "Epoch 00016: val_acc did not improve from 0.46223\n",
      "Epoch 17/60\n",
      "50400/50400 [==============================] - 2s 46us/step - loss: 4.8668 - acc: 0.5298 - val_loss: 5.6231 - val_acc: 0.4551\n",
      "\n",
      "Epoch 00017: val_acc did not improve from 0.46223\n",
      "Epoch 18/60\n",
      "50400/50400 [==============================] - 2s 47us/step - loss: 4.8118 - acc: 0.5399 - val_loss: 5.6564 - val_acc: 0.4515\n",
      "\n",
      "Epoch 00018: val_acc did not improve from 0.46223\n",
      "Epoch 19/60\n",
      "50400/50400 [==============================] - 3s 50us/step - loss: 4.7590 - acc: 0.5506 - val_loss: 5.6963 - val_acc: 0.4535\n",
      "\n",
      "Epoch 00019: val_acc did not improve from 0.46223\n"
     ]
    }
   ],
   "source": [
    "X_train, X_test, X_val, Y_train, Y_test, Y_val = get_data()\n",
    "\n",
    "X_train_pic = (np.concatenate((np.abs(X_train[:,:,:,:,0]),np.sign(X_train[:,:,:,:,0]),np.sign(X_train[:,:,:,:,1])), axis=3)).reshape((-1,n+1,N,15))\n",
    "X_test_pic = (np.concatenate((np.abs(X_test[:,:,:,:,0]),np.sign(X_test[:,:,:,:,0]),np.sign(X_test[:,:,:,:,1])), axis=3)).reshape((-1,n+1,N,15))\n",
    "X_val_pic = (np.concatenate((np.abs(X_val[:,:,:,:,0]),np.sign(X_val[:,:,:,:,0]),np.sign(X_val[:,:,:,:,1])), axis=3)).reshape((-1,n+1,N,15))\n",
    "\n",
    "model = train(X_train_pic, X_test_pic, X_val_pic, Y_train, Y_test, Y_val)"
   ]
  },
  {
   "cell_type": "code",
   "execution_count": 7,
   "metadata": {},
   "outputs": [
    {
     "name": "stdout",
     "output_type": "stream",
     "text": [
      "Training: [0.50313, 0.66609, 0.75748, 0.81766, 0.85883, 0.89024, 0.91796, 0.93796, 0.95375, 0.96675, 0.97657, 0.9846, 0.99046, 0.99524]\n",
      "Testing:  [0.45267, 0.60952, 0.70256, 0.76456, 0.81181, 0.84859, 0.87967, 0.90667, 0.92641, 0.94552, 0.96126, 0.97333, 0.98233, 0.99059]\n",
      "SNR: 0, [0.425, 0.57711, 0.67478, 0.74022, 0.78822, 0.83167, 0.86122, 0.89178, 0.91311, 0.93556, 0.95367, 0.96822, 0.97822, 0.98922]\n",
      "SNR: 1, [0.45611, 0.60811, 0.69778, 0.76078, 0.80967, 0.84378, 0.87911, 0.906, 0.92611, 0.94578, 0.962, 0.97356, 0.98333, 0.99044]\n",
      "SNR: 2, [0.47689, 0.64333, 0.73511, 0.79267, 0.83756, 0.87033, 0.89867, 0.92222, 0.94, 0.95522, 0.96811, 0.97822, 0.98544, 0.99211]\n"
     ]
    }
   ],
   "source": [
    "weight_path = '{0}_{1}_{2}.ckpt'.format(N,ebn0[0],ebn0[-1])\n",
    "f_results = open('Results/NN/Uni_'+weight_path[:-4]+'txt', 'w+')\n",
    "\n",
    "y_pred = model.predict(X_train_pic,batch_size=2000)\n",
    "print('Training:', true_acc(Y_train,y_pred,CS.shape[0]*2))\n",
    "y_pred = model.predict(X_test_pic,batch_size=2000)\n",
    "print('Testing: ', true_acc(Y_test,y_pred,CS.shape[0]*2))\n",
    "f_results.write('Testing: ' + str(true_acc(Y_test,y_pred,CS.shape[0]*2))+'\\n')\n",
    "L = int(len(Y_test)/len(ebn0))\n",
    "for i in range(len(ebn0)):\n",
    "    print('SNR: '+str(i)+', '+str(true_acc(Y_test[i*L:(i+1)*L],y_pred[i*L:(i+1)*L],CS.shape[0]*2)))\n",
    "    f_results.write('SNR: '+str(i)+', '+str(true_acc(Y_test[i*L:(i+1)*L],y_pred[i*L:(i+1)*L],CS.shape[0]*2))+'\\n')"
   ]
  },
  {
   "cell_type": "code",
   "execution_count": 8,
   "metadata": {},
   "outputs": [],
   "source": [
    "pred = np.zeros(Y_test.shape)\n",
    "\n",
    "# order of critical set\n",
    "for j in range(CS.shape[0]):\n",
    "    pred[:,int(CS[j])] = 1-(j/K)"
   ]
  },
  {
   "cell_type": "code",
   "execution_count": 9,
   "metadata": {},
   "outputs": [
    {
     "name": "stdout",
     "output_type": "stream",
     "text": [
      "SNR: 0, [2448. 2056. 1405. 1712. 1255. 1093.  742.  772.  984.  927.  989. 1086.\n",
      " 1151. 1134. 1197. 1107.], [0.10933, 0.37122, 0.51778, 0.61411, 0.68367, 0.74867, 0.782]\n",
      "SNR: 1, [2533. 2109. 1444. 1715. 1227. 1186.  759.  741. 1046.  966. 1047. 1074.\n",
      " 1280. 1195. 1280. 1091.], [0.11622, 0.38767, 0.53367, 0.62533, 0.69222, 0.76122, 0.79167]\n",
      "SNR: 2, [2516. 2318. 1624. 1792. 1163. 1227.  771.  799. 1103. 1081. 1182. 1138.\n",
      " 1343. 1296. 1327. 1095.], [0.12256, 0.38933, 0.55189, 0.63233, 0.70711, 0.77389, 0.80356]\n"
     ]
    },
    {
     "data": {
      "image/png": "[encoded data removed]",
      "text/plain": [
       "<Figure size 432x288 with 1 Axes>"
      ]
     },
     "metadata": {
      "needs_background": "light"
     },
     "output_type": "display_data"
    }
   ],
   "source": [
    "# calculate CS_BF accuracy\n",
    "L = int(len(Y_test)/len(ebn0))\n",
    "f_results.write('\\nCS Testing: \\n')\n",
    "for i in range(len(ebn0)):\n",
    "    cnt = np.sum(Y_test[i*L:(i+1)*L,:],0)\n",
    "    print('SNR: '+str(i)+', '+str(cnt)+', '+str(true_acc(Y_test[i*L:(i+1)*L,:],pred[i*L:(i+1)*L,:],CS.shape[0])))\n",
    "    f_results.write('SNR: '+str(i)+', '+str(true_acc(Y_test[i*L:(i+1)*L],pred[i*L:(i+1)*L,:],CS.shape[0]))+'\\n')    \n",
    "    plt.plot(np.sum(Y_test[i*L:(i+1)*L],0),marker='*')\n",
    "f_results.flush()"
   ]
  }
 ],
 "metadata": {
  "kernelspec": {
   "display_name": "Python 3",
   "language": "python",
   "name": "python3"
  },
  "language_info": {
   "codemirror_mode": {
    "name": "ipython",
    "version": 3
   },
   "file_extension": ".py",
   "mimetype": "text/x-python",
   "name": "python",
   "nbconvert_exporter": "python",
   "pygments_lexer": "ipython3",
   "version": "3.6.9"
  }
 },
 "nbformat": 4,
 "nbformat_minor": 2
}
