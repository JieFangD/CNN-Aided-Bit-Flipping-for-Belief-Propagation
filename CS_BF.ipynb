{
 "cells": [
  {
   "cell_type": "code",
   "execution_count": 1,
   "metadata": {},
   "outputs": [
    {
     "name": "stderr",
     "output_type": "stream",
     "text": [
      "/home/jeff/.local/lib/python3.6/site-packages/tensorflow/python/framework/dtypes.py:516: FutureWarning: Passing (type, 1) or '1type' as a synonym of type is deprecated; in a future version of numpy, it will be understood as (type, (1,)) / '(1,)type'.\n",
      "  _np_qint8 = np.dtype([(\"qint8\", np.int8, 1)])\n",
      "/home/jeff/.local/lib/python3.6/site-packages/tensorflow/python/framework/dtypes.py:517: FutureWarning: Passing (type, 1) or '1type' as a synonym of type is deprecated; in a future version of numpy, it will be understood as (type, (1,)) / '(1,)type'.\n",
      "  _np_quint8 = np.dtype([(\"quint8\", np.uint8, 1)])\n",
      "/home/jeff/.local/lib/python3.6/site-packages/tensorflow/python/framework/dtypes.py:518: FutureWarning: Passing (type, 1) or '1type' as a synonym of type is deprecated; in a future version of numpy, it will be understood as (type, (1,)) / '(1,)type'.\n",
      "  _np_qint16 = np.dtype([(\"qint16\", np.int16, 1)])\n",
      "/home/jeff/.local/lib/python3.6/site-packages/tensorflow/python/framework/dtypes.py:519: FutureWarning: Passing (type, 1) or '1type' as a synonym of type is deprecated; in a future version of numpy, it will be understood as (type, (1,)) / '(1,)type'.\n",
      "  _np_quint16 = np.dtype([(\"quint16\", np.uint16, 1)])\n",
      "/home/jeff/.local/lib/python3.6/site-packages/tensorflow/python/framework/dtypes.py:520: FutureWarning: Passing (type, 1) or '1type' as a synonym of type is deprecated; in a future version of numpy, it will be understood as (type, (1,)) / '(1,)type'.\n",
      "  _np_qint32 = np.dtype([(\"qint32\", np.int32, 1)])\n",
      "/home/jeff/.local/lib/python3.6/site-packages/tensorflow/python/framework/dtypes.py:525: FutureWarning: Passing (type, 1) or '1type' as a synonym of type is deprecated; in a future version of numpy, it will be understood as (type, (1,)) / '(1,)type'.\n",
      "  np_resource = np.dtype([(\"resource\", np.ubyte, 1)])\n",
      "/home/jeff/.local/lib/python3.6/site-packages/requests/__init__.py:91: RequestsDependencyWarning: urllib3 (1.25.9) or chardet (3.0.4) doesn't match a supported version!\n",
      "  RequestsDependencyWarning)\n",
      "Using TensorFlow backend.\n"
     ]
    }
   ],
   "source": [
    "import os\n",
    "os.environ['CUDA_VISIBLE_DEVICES'] = \"0\"\n",
    "import tensorflow as tf\n",
    "import numpy as np\n",
    "import matplotlib.pyplot as plt\n",
    "config = tf.ConfigProto()\n",
    "config.gpu_options.allow_growth=True\n",
    "sess = tf.Session(config=config)\n",
    "from config import *\n",
    "import random"
   ]
  },
  {
   "cell_type": "code",
   "execution_count": 2,
   "metadata": {},
   "outputs": [
    {
     "name": "stdout",
     "output_type": "stream",
     "text": [
      "WARNING:tensorflow:From /home/jeff/.local/lib/python3.6/site-packages/tensorflow/python/ops/nn_impl.py:180: add_dispatch_support.<locals>.wrapper (from tensorflow.python.ops.array_ops) is deprecated and will be removed in a future version.\n",
      "Instructions for updating:\n",
      "Use tf.where in 2.0, which has the same broadcast rule as np.where\n"
     ]
    }
   ],
   "source": [
    "tf.reset_default_graph()\n",
    "x = tf.placeholder(tf.float32, shape=[batch_size, N])\n",
    "y = tf.placeholder(tf.float32, shape=[batch_size, K])\n",
    "R_init = tf.placeholder(tf.float32, shape=[batch_size, N])\n",
    "\n",
    "net_dict = {}\n",
    "bp_iter_num = 5\n",
    "RNN = 1\n",
    "ss = np.hstack([0,np.arange(n)[::-1]+1])\n",
    "int_L = 5\n",
    "deci_L = 2\n",
    "step = 2**-deci_L\n",
    "_min = -2**(int_L+deci_L)*step\n",
    "_max = (2**(int_L+deci_L)-1)*step\n",
    "fix = 0\n",
    "if(fix):\n",
    "    inf_num = 2**(int_L-1)\n",
    "else:\n",
    "    inf_num = 1000\n",
    "\n",
    "# initial\n",
    "for i in range(n+1):\n",
    "    for j in range(N):\n",
    "        net_dict[\"L_{0}{1}{2}\".format(i,j,0)] = tf.zeros((batch_size))\n",
    "        net_dict[\"R_{0}{1}{2}\".format(i,j,0)] = tf.zeros((batch_size))\n",
    "\n",
    "if(RNN):\n",
    "    LV = tf.Variable(np.float32(np.ones((n,N,1))))\n",
    "    RV = tf.Variable(np.float32(np.ones((n,N,1))))\n",
    "else:\n",
    "    LV = tf.Variable(np.float32(np.ones((n,N,bp_iter_num))))\n",
    "    RV = tf.Variable(np.float32(np.ones((n,N,bp_iter_num))))\n",
    "\n",
    "for j in range(N):\n",
    "    net_dict[\"L_{0}{1}{2}\".format(n,j,0)] = tf.ones((1))*x[:,j]    \n",
    "    net_dict[\"R_{0}{1}{2}\".format(0,j,0)] = R_init[:,j]*inf_num\n",
    "\n",
    "for i in range(n+1):\n",
    "    for j in range(N):\n",
    "        for k in range(bp_iter_num):\n",
    "            net_dict[\"output_L_{0}{1}{2}\".format(i,j,k)] = tf.zeros((batch_size))\n",
    "            net_dict[\"output_R_{0}{1}{2}\".format(i,j,k)] = tf.zeros((batch_size))\n",
    "            \n",
    "# bp algorithm\n",
    "for k in range(bp_iter_num):\n",
    "    if(RNN):\n",
    "        itr = 0\n",
    "    else:\n",
    "        itr = k\n",
    "    for i in range(n,0,-1):\n",
    "        for phi in range(2**ss[i]):\n",
    "            psi = int(np.floor(phi/2))\n",
    "            if(np.mod(phi,2)!=0):\n",
    "                for omega in range(2**(n-ss[i])):\n",
    "                    net_dict[\"R_{0}{1}{2}\".format(n+1-i,psi+2*omega*2**(ss[i]-1),0)] = RV[n-i,psi+2*omega*2**(ss[i]-1),itr]*fFunction(net_dict[\"L_{0}{1}{2}\".format(n+1-i,psi+(2*omega+1)*2**(ss[i]-1),0)]+net_dict[\"R_{0}{1}{2}\".format(n-i,psi+(2*omega+1)*2**(ss[i]-1),0)], net_dict[\"R_{0}{1}{2}\".format(n-i,psi+2*omega*2**(ss[i]-1),0)])\n",
    "                    net_dict[\"R_{0}{1}{2}\".format(n+1-i,psi+(2*omega+1)*2**(ss[i]-1),0)] = net_dict[\"R_{0}{1}{2}\".format(n-i,psi+(2*omega+1)*2**(ss[i]-1),0)]+RV[n-i,psi+(2*omega+1)*2**(ss[i]-1),itr]*fFunction(net_dict[\"L_{0}{1}{2}\".format(n+1-i,psi+2*omega*2**(ss[i]-1),0)],net_dict[\"R_{0}{1}{2}\".format(n-i,psi+2*omega*2**(ss[i]-1),0)])\n",
    "                    \n",
    "    for i in range(1,n+1):\n",
    "        for phi in range(2**ss[i]):\n",
    "            psi = int(np.floor(phi/2))\n",
    "            if(np.mod(phi,2)!=0):\n",
    "                for omega in range(2**(n-ss[i])):\n",
    "                    net_dict[\"L_{0}{1}{2}\".format(n-i,psi+2*omega*2**(ss[i]-1),0)] = LV[n-i,psi+2*omega*2**(ss[i]-1),itr]*fFunction(net_dict[\"L_{0}{1}{2}\".format(n+1-i,psi+2*omega*2**(ss[i]-1),0)],net_dict[\"L_{0}{1}{2}\".format(n+1-i,psi+(2*omega+1)*2**(ss[i]-1),0)]+net_dict[\"R_{0}{1}{2}\".format(n-i,psi+(2*omega+1)*2**(ss[i]-1),0)])             \n",
    "                    net_dict[\"L_{0}{1}{2}\".format(n-i,psi+(2*omega+1)*2**(ss[i]-1),0)] = net_dict[\"L_{0}{1}{2}\".format(n+1-i,psi+(2*omega+1)*2**(ss[i]-1),0)]+LV[n-i,psi+(2*omega+1)*2**(ss[i]-1),itr]*fFunction(net_dict[\"L_{0}{1}{2}\".format(n+1-i,psi+2*omega*2**(ss[i]-1),0)],net_dict[\"R_{0}{1}{2}\".format(n-i,psi+2*omega*2**(ss[i]-1),0)])\n",
    "\n",
    "    for i in range(n+1):\n",
    "        for j in range(N):\n",
    "            net_dict[\"output_L_{0}{1}{2}\".format(i,j,k)] = net_dict[\"L_{0}{1}{2}\".format(i,j,0)]\n",
    "            net_dict[\"output_R_{0}{1}{2}\".format(i,j,k)] = net_dict[\"R_{0}{1}{2}\".format(i,j,0)]\n",
    "            \n",
    "y_output = tf.zeros((1))\n",
    "for i in range(N):\n",
    "    if(FZlookup[i] == -1):\n",
    "        y_output = tf.concat([y_output,net_dict[\"L_{0}{1}{2}\".format(0,i,0)]+net_dict[\"R_{0}{1}{2}\".format(0,i,0)]],0)\n",
    "y_output = tf.transpose(tf.reshape(y_output[1:],(K,batch_size)))*-1\n",
    "loss = 1.0*tf.reduce_mean(tf.nn.sigmoid_cross_entropy_with_logits(logits=y_output,labels=y))\n",
    "sess = tf.Session(config=tf.ConfigProto(allow_soft_placement=True))  #allow tensorflow to automatically allocate device\n",
    "sess.run(tf.global_variables_initializer())"
   ]
  },
  {
   "cell_type": "code",
   "execution_count": 3,
   "metadata": {},
   "outputs": [],
   "source": [
    "def find_CS(FZlookup_new,indices):\n",
    "    rank=np.zeros(N,dtype=int)\n",
    "    rank[FZlookup_new==-1]=1\n",
    "\n",
    "    for i in range (n):\n",
    "        for j in range (2**(n-i-1)):\n",
    "            if rank[j*2**(i+1)]==1 and rank[j*2**(i+1)+2**i]==1:\n",
    "                rank[j*2**(i+1)+2**i]=0\n",
    "    CS = np.where(rank==1)[0]\n",
    "    sort = CS.copy()\n",
    "    for i in range(len(CS)):\n",
    "        sort[i] = np.where(indices == CS[i])[0]\n",
    "    idx = np.argsort(sort)[::-1]\n",
    "    return CS[idx]"
   ]
  },
  {
   "cell_type": "code",
   "execution_count": 4,
   "metadata": {},
   "outputs": [],
   "source": [
    "def construct_CS_mat(t): #  t is the number of bits to flip\n",
    "    CS = find_CS(FZlookup,indices)\n",
    "    CS_mat=np.zeros((len(CS),t),dtype=int)\n",
    "    CS_mat[:,0] = CS\n",
    "    for i in range(len(CS)):\n",
    "        j = 1\n",
    "        FZlookup_new = FZlookup.copy()\n",
    "        FZlookup_new[CS[i]] = 0\n",
    "        CS_new = find_CS(FZlookup_new,indices)\n",
    "        while(j < t):\n",
    "            CS_mat[i,j] = CS_new[0]\n",
    "            FZlookup_new[CS_new[0]] = 0\n",
    "            CS_new = find_CS(FZlookup_new,indices)\n",
    "            j = j+1    \n",
    "    return CS_mat"
   ]
  },
  {
   "cell_type": "code",
   "execution_count": 5,
   "metadata": {},
   "outputs": [],
   "source": [
    "def dec2bin(dec, digit):\n",
    "    binary=np.zeros(digit)\n",
    "    for i in range(digit):\n",
    "        binary[i]=int(dec/2**(digit-i-1))\n",
    "        dec=dec%2**(digit-i-1)\n",
    "    return binary"
   ]
  },
  {
   "cell_type": "code",
   "execution_count": 6,
   "metadata": {},
   "outputs": [
    {
     "data": {
      "text/plain": [
       "(array([[24],\n",
       "        [11],\n",
       "        [13],\n",
       "        [19],\n",
       "        [14],\n",
       "        [21],\n",
       "        [22]]),\n",
       " array([[24, 11],\n",
       "        [11, 24],\n",
       "        [13, 24],\n",
       "        [19, 24],\n",
       "        [14, 24],\n",
       "        [21, 24],\n",
       "        [22, 24]]),\n",
       " array([[24, 11, 13],\n",
       "        [11, 24, 13],\n",
       "        [13, 24, 11],\n",
       "        [19, 24, 11],\n",
       "        [14, 24, 11],\n",
       "        [21, 24, 11],\n",
       "        [22, 24, 11]]))"
      ]
     },
     "execution_count": 6,
     "metadata": {},
     "output_type": "execute_result"
    }
   ],
   "source": [
    "construct_CS_mat(1),construct_CS_mat(2),construct_CS_mat(3)"
   ]
  },
  {
   "cell_type": "code",
   "execution_count": 7,
   "metadata": {},
   "outputs": [
    {
     "name": "stdout",
     "output_type": "stream",
     "text": [
      "WARNING:tensorflow:From /home/jeff/.local/lib/python3.6/site-packages/tensorflow/python/training/saver.py:1276: checkpoint_exists (from tensorflow.python.training.checkpoint_management) is deprecated and will be removed in a future version.\n",
      "Instructions for updating:\n",
      "Use standard file APIs to check for files with this prefix.\n",
      "INFO:tensorflow:Restoring parameters from Model/32_0.0_5.0_5_1_0.ckpt\n",
      "Test SNR:    [0. 1. 2.]\n",
      "Test BER:    [0.15976786 0.09104762 0.03978929]\n",
      "Test FER:    [0.46979048 0.28579048 0.13510476]\n",
      "Test BF FER: [0.30678095 0.15550476 0.0604    ]\n"
     ]
    }
   ],
   "source": [
    "omega = 1\n",
    "all_combination = 0\n",
    "CS_mat = construct_CS_mat(omega)\n",
    "T_max = len(CS_mat)\n",
    "bp_iter_num = 5\n",
    "\n",
    "best_val_ber = 1\n",
    "load_weight = 1\n",
    "quantize_weight = 0 #0 for non-quantize, 1 for normal, 2 for binarized, 3 for bin, 4 for binarized bin\n",
    "bin_bit = 3  # number of different value\n",
    "binary_prec = 6 # binary precision, binary_prec must >= bin_bit\n",
    "\n",
    "saver = tf.train.Saver()\n",
    "if(load_weight):\n",
    "    saver.restore(sess, 'Model/'+str(N)+'_0.0_5.0_5_1_0.ckpt')\n",
    "\n",
    "test_nfails = np.zeros((len(ebn0)))\n",
    "test_nframe = np.zeros((len(ebn0)))\n",
    "CS_test_nframe = np.zeros((len(ebn0)))\n",
    "wordRandom = np.random.RandomState(word_seed-200)\n",
    "noiseRandom = np.random.RandomState(noise_seed-200) \n",
    "for j in range(len(ebn0)):\n",
    "    for i in range(int(batches_test/len(ebn0))):\n",
    "        x_test, y_test = gendata(j,True,True)\n",
    "        r = np.zeros((batch_size,N))\n",
    "        r[:,FZlookup == 0] = 1\n",
    "        y_pred, _loss = sess.run(fetches=[y_output, loss], feed_dict={x: x_test, y: y_test, R_init: r})\n",
    "        uhat = np.zeros((batch_size,K))\n",
    "        uhat[y_pred>=0] = 1\n",
    "        fail_frame = np.logical_or.reduce(uhat!=y_test,1)\n",
    "        test_nfails[j] = test_nfails[j] + sum(sum(uhat!=y_test))        \n",
    "        test_nframe[j] = test_nframe[j] + sum(fail_frame)\n",
    "        \n",
    "        for t in range(T_max):\n",
    "            flip_bit = CS_mat[t,:]            \n",
    "            if(all_combination): ### all combination ###                \n",
    "                for k in range(2**omega):\n",
    "                    b = dec2bin(k,omega)\n",
    "                    r = np.zeros((batch_size,N))\n",
    "                    r[:,FZlookup == 0] = 1\n",
    "                    for l in range(omega):\n",
    "                        r[:,flip_bit[l]] = (1-2*b[l])\n",
    "                    y_pred, _loss = sess.run(fetches=[y_output, loss], feed_dict={x: x_test, y: y_test, R_init: r})                        \n",
    "#                     y_pred, _ = Parallel_BP_decoder(x_test, y_test, r, bp_iter_num, 32)\n",
    "                    uhat = np.zeros((batch_size,K))\n",
    "                    uhat[y_pred>=0] = 1\n",
    "                    fail_frame = fail_frame * np.logical_or.reduce(uhat!=y_test,1) \n",
    "            else: ### only inverse ###\n",
    "                r = np.zeros((batch_size,N))\n",
    "                r[:,FZlookup == 0] = 1\n",
    "                for l in range(omega):\n",
    "                    idx = len(np.where(FZlookup[:flip_bit[l]] == -1)[0])\n",
    "                    r[:,flip_bit[l]] = np.sign(y_pred[:,idx])\n",
    "                    new_y_pred, _loss = sess.run(fetches=[y_output, loss], feed_dict={x: x_test, y: y_test, R_init: r})\n",
    "#                     new_y_pred, _ = Parallel_BP_decoder(x_test, y_test, r, bp_iter_num, 32)\n",
    "                    uhat = np.zeros((batch_size,K))\n",
    "                    uhat[new_y_pred>=0] = 1\n",
    "                    fail_frame = fail_frame * np.logical_or.reduce(uhat!=y_test,1)            \n",
    "        CS_test_nframe[j] = CS_test_nframe[j] + sum(fail_frame)\n",
    "\n",
    "print('Test SNR:   ',ebn0)\n",
    "# print('Test Loss:  ',test_loss/int(batches_test/len(ebn0)))\n",
    "print('Test BER:   ',test_nfails/(batch_size*K*(batches_test/len(ebn0))))\n",
    "print('Test FER:   ',test_nframe/(batch_size*(batches_test/len(ebn0))))\n",
    "print('Test BF FER:',CS_test_nframe/(batch_size*(batches_test/len(ebn0))))"
   ]
  },
  {
   "cell_type": "code",
   "execution_count": 8,
   "metadata": {},
   "outputs": [],
   "source": [
    "file_path = '{0}_{1}_{2}_{3}_{4}_{5}_{6}_{7}_{8}.ckpt'.format(N,ebn0[0],ebn0[-1],bp_iter_num,RNN,all_combination,omega,T_max,load_weight)\n",
    "f_results = open('Results/CS/CS_'+file_path[:-4]+'txt', 'w+')\n",
    "f_results.write('Test SNR:    ' + str(ebn0) + '\\n')\n",
    "f_results.write('Test BER:    ' + str(test_nfails/(batch_size*K*(batches_test/len(ebn0)))) + '\\n')\n",
    "f_results.write('Test FER:    ' + str(test_nframe/(batch_size*(batches_test/len(ebn0)))) + '\\n')\n",
    "f_results.write('Test BF FER: ' + str(CS_test_nframe/(batch_size*(batches_test/len(ebn0)))) + '\\n')\n",
    "f_results.write('NumOfWord:   ' + str(numOfWord) + '\\n')\n",
    "f_results.write('Batch_size:  ' + str(batch_size) + '\\n')\n",
    "f_results.write('Batch_test:  ' + str(batches_test) + '\\n')\n",
    "f_results.flush()"
   ]
  },
  {
   "cell_type": "code",
   "execution_count": 9,
   "metadata": {},
   "outputs": [
    {
     "data": {
      "image/png": "[encoded data removed]",
      "text/plain": [
       "<Figure size 432x288 with 1 Axes>"
      ]
     },
     "metadata": {
      "needs_background": "light"
     },
     "output_type": "display_data"
    }
   ],
   "source": [
    "plt.plot(test_nframe/(batch_size*(batches_test/len(ebn0))),marker='*')\n",
    "plt.plot(CS_test_nframe/(batch_size*(batches_test/len(ebn0))),marker='*')\n",
    "plt.grid(which='major',color='black',linestyle='-')\n",
    "plt.grid(which='minor',color='black',linestyle='-')\n",
    "plt.yscale('log')"
   ]
  }
 ],
 "metadata": {
  "kernelspec": {
   "display_name": "Python 3",
   "language": "python",
   "name": "python3"
  },
  "language_info": {
   "codemirror_mode": {
    "name": "ipython",
    "version": 3
   },
   "file_extension": ".py",
   "mimetype": "text/x-python",
   "name": "python",
   "nbconvert_exporter": "python",
   "pygments_lexer": "ipython3",
   "version": "3.6.9"
  }
 },
 "nbformat": 4,
 "nbformat_minor": 2
}
